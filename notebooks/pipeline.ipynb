{
 "cells": [
  {
   "cell_type": "markdown",
   "metadata": {},
   "source": [
    "# Single-Cell RNA-seq Analysis Pipeline\n",
    "\n",
    "Interactive pipeline for scRNA-seq preprocessing, dimensionality reduction, clustering, and annotation.\n",
    "\n",
    "## Pipeline Overview\n",
    "\n",
    "1. **Data Loading** - Load h5ad, rds, or mtx format\n",
    "2. **Quality Control** - Interactive QC metric visualization and filtering\n",
    "3. **Doublet Detection** - Identify and remove doublets\n",
    "4. **Normalization** - Choose normalization method\n",
    "5. **Feature Selection** - Select highly variable genes\n",
    "6. **Dimensionality Reduction** - PCA and UMAP\n",
    "7. **Clustering** - Interactive resolution selection\n",
    "8. **Gene Visualization** - View gene expression on UMAP\n",
    "9. **Marker Gene Analysis** - Identify cluster markers\n",
    "10. **Manual Annotation** - Annotate cell types\n",
    "11. **Subclustering** (optional) - Refine specific clusters\n",
    "12. **Export & Report** - Save results and generate PDF report"
   ]
  },
  {
   "cell_type": "markdown",
   "metadata": {},
   "source": [
    "## Setup"
   ]
  },
  {
   "cell_type": "code",
   "execution_count": null,
   "metadata": {},
   "outputs": [],
   "source": "# Import libraries\nimport sys\nsys.path.append('..')\n\nimport scanpy as sc\nimport numpy as np\nimport pandas as pd\nimport matplotlib.pyplot as plt\nimport warnings\nwarnings.filterwarnings('ignore')\n\n# Import pipeline modules\nfrom src import io, qc, preprocessing, reduction, clustering, annotation, visualization, interactive, reports\n\n# Scanpy settings\nsc.settings.verbosity = 3\nsc.settings.set_figure_params(dpi=80, facecolor='white')\n\nprint(\"✓ Setup complete\")"
  },
  {
   "cell_type": "markdown",
   "metadata": {},
   "source": [
    "## 1. Data Loading\n",
    "\n",
    "Load your scRNA-seq data. Supported formats:\n",
    "- `.h5ad` (AnnData)\n",
    "- `.rds` (Seurat object)\n",
    "- `matrix.mtx` + `barcodes.tsv` + `genes.tsv` (10X format)"
   ]
  },
  {
   "cell_type": "code",
   "execution_count": null,
   "metadata": {},
   "outputs": [],
   "source": "# Uses: io.load_h5ad() / io.load_rds() / io.load_10x_mtx() / io.load_data()\n\n# Option 1: Load h5ad file\n# adata = io.load_h5ad('../data/your_data.h5ad')\n\n# Option 2: Load RDS file (Seurat object)\n# adata = io.load_rds('../data/your_data.rds')\n\n# Option 3: Load 10X MTX format\n# adata = io.load_10x_mtx('../data/filtered_feature_bc_matrix/')\n\n# Option 4: Auto-detect format\nadata = io.load_data('../data/your_data.h5ad')  # Change to your file path\n\nprint(f\"\\nLoaded: {adata.n_obs} cells × {adata.n_vars} genes\")"
  },
  {
   "cell_type": "code",
   "execution_count": null,
   "metadata": {},
   "outputs": [],
   "source": "# Uses: io.save_checkpoint()\n\n# Save raw data checkpoint\nio.save_checkpoint(adata, 'raw')\nprint(\"✓ Raw data saved\")"
  },
  {
   "cell_type": "markdown",
   "metadata": {},
   "source": [
    "## 2. Quality Control\n",
    "\n",
    "Calculate QC metrics and visualize data quality."
   ]
  },
  {
   "cell_type": "code",
   "execution_count": null,
   "metadata": {},
   "outputs": [],
   "source": "# Uses: qc.calculate_qc_metrics()\n# Replaces old wrapper: qc.get_qc_summary() → use adata.obs[metrics].describe()\n\n# Calculate QC metrics\nadata = qc.calculate_qc_metrics(adata, mito_prefix='MT-')\n\n# Display QC summary (direct pandas operation)\nmetrics = ['total_counts', 'n_genes_by_counts', 'pct_counts_mt']\nif 'pct_counts_ribo' in adata.obs.columns:\n    metrics.append('pct_counts_ribo')\nsummary = adata.obs[metrics].describe().T\nprint(\"\\nQC Metrics Summary:\")\ndisplay(summary)"
  },
  {
   "cell_type": "code",
   "execution_count": null,
   "metadata": {},
   "outputs": [],
   "source": "# Uses: qc.plot_qc_metrics()\n\n# Generate QC plots\nfig = qc.plot_qc_metrics(adata, figsize=(15, 10))\nplt.show()"
  },
  {
   "cell_type": "markdown",
   "metadata": {},
   "source": [
    "### Interactive QC Filtering\n",
    "\n",
    "Adjust thresholds interactively and see the number of cells that will be retained."
   ]
  },
  {
   "cell_type": "code",
   "execution_count": null,
   "metadata": {},
   "outputs": [],
   "source": "# Uses: interactive.QCFilterWidget() which uses qc.calculate_mad_thresholds(), qc.plot_qc_metrics()\n# Replaces old wrapper: qc.filter_cells() → now uses direct filtering in widget\n\n# Interactive QC filtering widget\nqc_widget = interactive.QCFilterWidget(adata)\nqc_widget.display()"
  },
  {
   "cell_type": "code",
   "execution_count": null,
   "metadata": {},
   "outputs": [],
   "source": "# Get filtered data from widget (uses: sc.pp.filter_genes() internally)\n\n# Apply filters (run after clicking \"Apply Filters\" button)\nadata = qc_widget.get_filtered_data()\n\nif adata is not None:\n    print(f\"\\n✓ Filtered data: {adata.n_obs} cells × {adata.n_vars} genes\")\nelse:\n    print(\"Please click 'Apply Filters' button first\")"
  },
  {
   "cell_type": "code",
   "execution_count": null,
   "metadata": {},
   "outputs": [],
   "source": "# Replaces old wrapper: qc.filter_genes_by_counts() → use sc.pp.filter_genes() directly\n\n# Filter genes (remove genes detected in < 20 cells)\nn_genes_before = adata.n_vars\nsc.pp.filter_genes(adata, min_cells=20)\nn_genes_after = adata.n_vars\nprint(f\"Genes: {n_genes_before} → {n_genes_after} (removed {n_genes_before - n_genes_after})\")"
  },
  {
   "cell_type": "markdown",
   "metadata": {},
   "source": [
    "## 3. Doublet Detection\n",
    "\n",
    "Identify and remove potential doublets using Scrublet."
   ]
  },
  {
   "cell_type": "code",
   "execution_count": null,
   "metadata": {},
   "outputs": [],
   "source": "# Uses: preprocessing.detect_doublets() (wraps Scrublet library)\n\n# Detect doublets\nadata = preprocessing.detect_doublets(adata, expected_doublet_rate=0.06)"
  },
  {
   "cell_type": "markdown",
   "metadata": {},
   "source": [
    "### Interactive Doublet Filtering"
   ]
  },
  {
   "cell_type": "code",
   "execution_count": null,
   "metadata": {},
   "outputs": [],
   "source": "# Uses: interactive.DoubletFilterWidget() which uses preprocessing.plot_doublet_scores()\n# Replaces old wrapper: preprocessing.filter_doublets() → now uses direct filtering in widget\n\n# Interactive doublet filtering widget\ndoublet_widget = interactive.DoubletFilterWidget(adata)\ndoublet_widget.display()"
  },
  {
   "cell_type": "code",
   "execution_count": null,
   "metadata": {},
   "outputs": [],
   "source": "# Get filtered data from widget\n\n# Apply doublet filtering (run after clicking \"Remove Doublets\" button)\nadata = doublet_widget.get_filtered_data()\n\nif adata is not None:\n    print(f\"\\n✓ After doublet removal: {adata.n_obs} cells × {adata.n_vars} genes\")\nelse:\n    print(\"Please click 'Remove Doublets' button first\")"
  },
  {
   "cell_type": "markdown",
   "metadata": {},
   "source": [
    "## 4. Normalization\n",
    "\n",
    "Choose normalization method based on your analysis goals:\n",
    "- **log1p**: Standard log transformation (recommended for general use)\n",
    "- **scran**: Better for batch correction\n",
    "- **pearson**: Better for rare cell type identification"
   ]
  },
  {
   "cell_type": "code",
   "execution_count": null,
   "metadata": {},
   "outputs": [],
   "source": "# Replaces old wrapper: preprocessing.normalize_data() → use Scanpy directly\n\n# Store raw counts\nadata.layers['counts'] = adata.X.copy()\n\n# Normalize data (log1p method)\nsc.pp.normalize_total(adata, target_sum=1e4)\nsc.pp.log1p(adata)\nprint(\"✓ Normalization complete (log1p)\")"
  },
  {
   "cell_type": "markdown",
   "metadata": {},
   "source": [
    "## 5. Feature Selection\n",
    "\n",
    "Select highly variable genes for downstream analysis."
   ]
  },
  {
   "cell_type": "code",
   "execution_count": null,
   "metadata": {},
   "outputs": [],
   "source": "# Replaces old wrappers:\n#   - preprocessing.select_highly_variable_genes() → use sc.pp.highly_variable_genes()\n#   - preprocessing.plot_highly_variable_genes() → use sc.pl.highly_variable_genes()\n\n# Select highly variable genes\nsc.pp.highly_variable_genes(adata, n_top_genes=2000, flavor='seurat')\nprint(f\"Selected {adata.var['highly_variable'].sum()} highly variable genes\")\n\n# Plot HVGs\nsc.pl.highly_variable_genes(adata)"
  },
  {
   "cell_type": "markdown",
   "metadata": {},
   "source": [
    "## 6. Scaling and Regression (Optional)\n",
    "\n",
    "Scale data and optionally regress out unwanted sources of variation."
   ]
  },
  {
   "cell_type": "code",
   "execution_count": null,
   "metadata": {},
   "outputs": [],
   "source": "# Replaces old wrappers:\n#   - preprocessing.regress_out() → use sc.pp.regress_out()\n#   - preprocessing.scale_data() → use sc.pp.scale()\n\n# Optional: Regress out total counts and mitochondrial percentage\n# sc.pp.regress_out(adata, keys=['total_counts', 'pct_counts_mt'])\n\n# Scale data\nsc.pp.scale(adata, max_value=10)\nprint(\"✓ Data scaled\")"
  },
  {
   "cell_type": "markdown",
   "metadata": {},
   "source": [
    "## 7. Dimensionality Reduction\n",
    "\n",
    "Compute PCA, then UMAP for visualization."
   ]
  },
  {
   "cell_type": "code",
   "execution_count": null,
   "metadata": {},
   "outputs": [],
   "source": "# Replaces old wrapper: reduction.compute_pca() → use sc.tl.pca()\n# Uses: reduction.plot_pca_variance() for custom variance plots\n\n# Compute PCA\nsc.tl.pca(adata, n_comps=50, use_highly_variable=True)\nprint(f\"PCA computed: {adata.obsm['X_pca'].shape}\")\n\n# Plot variance explained (custom plot)\nfig = reduction.plot_pca_variance(adata, n_pcs=50)\nplt.show()"
  },
  {
   "cell_type": "markdown",
   "metadata": {},
   "source": [
    "### Interactive PCA Component Selection"
   ]
  },
  {
   "cell_type": "code",
   "execution_count": null,
   "metadata": {},
   "outputs": [],
   "source": "# Uses: interactive.PCAWidget() which uses reduction.plot_pca_variance()\n\n# Interactive PCA selection widget\npca_widget = interactive.PCAWidget(adata)\npca_widget.display()"
  },
  {
   "cell_type": "code",
   "execution_count": null,
   "metadata": {},
   "outputs": [],
   "source": "# Get selected number of PCs from widget\n\n# Get selected number of PCs\nn_pcs = pca_widget.get_n_pcs()\nprint(f\"Using {n_pcs} principal components\")"
  },
  {
   "cell_type": "code",
   "execution_count": null,
   "metadata": {},
   "outputs": [],
   "source": "# Replaces old wrappers: reduction.compute_neighbors(), reduction.compute_umap() → use Scanpy directly\n\n# Compute neighbors\nsc.pp.neighbors(adata, n_neighbors=15, n_pcs=n_pcs)\nprint(\"Neighbors computed\")\n\n# Compute UMAP\nsc.tl.umap(adata, min_dist=0.5)\nprint(\"✓ UMAP computed\")"
  },
  {
   "cell_type": "markdown",
   "metadata": {},
   "source": [
    "## 8. Clustering\n",
    "\n",
    "Test multiple resolutions and select the optimal clustering."
   ]
  },
  {
   "cell_type": "code",
   "execution_count": null,
   "metadata": {},
   "outputs": [],
   "source": "# Uses: clustering.compute_multiple_resolutions() (batch Leiden clustering)\n\n# Compute clustering at multiple resolutions\nclustering.compute_multiple_resolutions(adata, resolutions=[0.25, 0.5, 1.0, 1.5, 2.0])"
  },
  {
   "cell_type": "markdown",
   "metadata": {},
   "source": [
    "### Interactive Resolution Selection"
   ]
  },
  {
   "cell_type": "code",
   "execution_count": null,
   "metadata": {},
   "outputs": [],
   "source": "# Uses: interactive.ClusteringResolutionWidget() which uses sc.tl.leiden(), sc.pl.umap()\n\n# Interactive clustering widget\nclustering_widget = interactive.ClusteringResolutionWidget(adata, resolutions=[0.25, 0.5, 1.0, 1.5, 2.0])\nclustering_widget.display()"
  },
  {
   "cell_type": "code",
   "execution_count": null,
   "metadata": {},
   "outputs": [],
   "source": "# Replaces old wrapper: reduction.plot_umap() → use sc.pl.umap()\n\n# Get selected resolution\nselected_res = clustering_widget.get_resolution()\nprint(f\"\\nUsing resolution: {selected_res}\")\n\n# Plot selected clustering\nsc.pl.umap(adata, color='leiden', legend_loc='on data', frameon=False)"
  },
  {
   "cell_type": "code",
   "execution_count": null,
   "metadata": {},
   "outputs": [],
   "source": "# Uses: clustering.plot_cluster_sizes(), clustering.compute_cluster_statistics()\n\n# Display cluster sizes\nfig = clustering.plot_cluster_sizes(adata, clustering_key='leiden')\nplt.show()\n\n# Cluster statistics\nstats = clustering.compute_cluster_statistics(adata, clustering_key='leiden')\ndisplay(stats)"
  },
  {
   "cell_type": "markdown",
   "metadata": {},
   "source": [
    "## 9. Save Preprocessed Data\n",
    "\n",
    "Save checkpoint before annotation."
   ]
  },
  {
   "cell_type": "code",
   "execution_count": null,
   "metadata": {},
   "outputs": [],
   "source": "# Uses: io.save_checkpoint()\n\n# Save preprocessed data\nio.save_checkpoint(adata, 'preprocessed')\nprint(\"✓ Preprocessed data saved\")"
  },
  {
   "cell_type": "markdown",
   "metadata": {},
   "source": [
    "## 10. Gene Expression Visualization\n",
    "\n",
    "Visualize specific genes to inform annotation decisions."
   ]
  },
  {
   "cell_type": "code",
   "execution_count": null,
   "metadata": {},
   "outputs": [],
   "source": "# Uses: interactive.GeneVisualizationWidget() which uses sc.pl.umap()\n\n# Interactive gene visualization widget\ngene_widget = interactive.GeneVisualizationWidget(adata)\ngene_widget.display()\n\n# Enter gene names (one per line) and click \"Plot Genes\""
  },
  {
   "cell_type": "markdown",
   "metadata": {},
   "source": [
    "## 11. Marker Gene Analysis\n",
    "\n",
    "Identify marker genes for each cluster."
   ]
  },
  {
   "cell_type": "code",
   "execution_count": null,
   "metadata": {},
   "outputs": [],
   "source": "# Replaces old wrapper: annotation.find_marker_genes() → use sc.tl.rank_genes_groups()\n\n# Find marker genes\nsc.tl.rank_genes_groups(adata, groupby='leiden', method='wilcoxon', n_genes=100)\nprint(\"✓ Marker genes identified\")"
  },
  {
   "cell_type": "code",
   "execution_count": null,
   "metadata": {},
   "outputs": [],
   "source": "# Replaces old wrapper: annotation.plot_marker_genes_heatmap() → use sc.pl.rank_genes_groups_heatmap()\n\n# Plot top marker genes\nsc.pl.rank_genes_groups_heatmap(adata, n_genes=10, groupby='leiden')"
  },
  {
   "cell_type": "code",
   "execution_count": null,
   "metadata": {},
   "outputs": [],
   "source": "# Replaces old wrapper: annotation.plot_marker_genes_dotplot() → use sc.pl.rank_genes_groups_dotplot()\n\n# Dotplot of top markers\nsc.pl.rank_genes_groups_dotplot(adata, n_genes=5, groupby='leiden')"
  },
  {
   "cell_type": "code",
   "execution_count": null,
   "metadata": {},
   "outputs": [],
   "source": "# Uses: annotation.get_top_markers() (extracts data from sc.tl.rank_genes_groups results)\n\n# View top markers for specific cluster\ncluster_id = 0  # Change to cluster of interest\nmarkers = annotation.get_top_markers(adata, cluster=cluster_id, n_genes=20)\ndisplay(markers)"
  },
  {
   "cell_type": "markdown",
   "metadata": {},
   "source": [
    "## 12. Manual Cell Type Annotation\n",
    "\n",
    "Annotate clusters based on marker genes."
   ]
  },
  {
   "cell_type": "code",
   "execution_count": null,
   "metadata": {},
   "outputs": [],
   "source": "# Uses: interactive.AnnotationWidget() which uses annotation.get_top_markers(), annotation.annotate_clusters(), sc.pl.umap()\n\n# Interactive annotation widget\nannotation_widget = interactive.AnnotationWidget(adata, clustering_key='leiden')\nannotation_widget.display()\n\n# For each cluster:\n# 1. Select cluster from dropdown\n# 2. Click \"Show Markers\" to see top marker genes\n# 3. Enter cell type in text box\n# 4. Click \"Annotate Cluster\"\n# 5. Repeat for all clusters\n# 6. Click \"Finish Annotation\" when done"
  },
  {
   "cell_type": "markdown",
   "metadata": {},
   "source": [
    "### Alternative: Manual Annotation (Code)\n",
    "\n",
    "If you prefer to annotate programmatically:"
   ]
  },
  {
   "cell_type": "code",
   "execution_count": null,
   "metadata": {},
   "outputs": [],
   "source": "# Uses: annotation.annotate_clusters() (maps cluster IDs to cell type names)\n\n# Manual annotation dictionary\n# annotations = {\n#     '0': 'T cells',\n#     '1': 'B cells',\n#     '2': 'Monocytes',\n#     '3': 'NK cells',\n#     # ... add all clusters\n# }\n\n# annotation.annotate_clusters(adata, annotations=annotations, clustering_key='leiden')"
  },
  {
   "cell_type": "code",
   "execution_count": null,
   "metadata": {},
   "outputs": [],
   "source": "# Replaces old wrapper: annotation.plot_annotated_umap() → use sc.pl.umap()\n\n# Plot annotated UMAP\nif 'cell_type' in adata.obs.columns:\n    sc.pl.umap(adata, color='cell_type', legend_loc='right margin', frameon=False)"
  },
  {
   "cell_type": "markdown",
   "metadata": {},
   "source": [
    "## 13. Cluster Manipulation (Optional)\n",
    "\n",
    "Split or merge clusters if needed."
   ]
  },
  {
   "cell_type": "code",
   "execution_count": null,
   "metadata": {},
   "outputs": [],
   "source": "# Uses: clustering.merge_clusters(), clustering.split_cluster()\n\n# Merge clusters (example: merge clusters 3 and 5)\n# clustering.merge_clusters(adata, clusters_to_merge=['3', '5'], clustering_key='leiden', new_cluster_name='3')\n\n# Split cluster (example: split cluster 2)\n# clustering.split_cluster(adata, cluster_id='2', clustering_key='leiden', resolution=1.5)"
  },
  {
   "cell_type": "markdown",
   "metadata": {},
   "source": [
    "## 14. Subclustering (Optional)\n",
    "\n",
    "Perform detailed analysis on specific cell populations."
   ]
  },
  {
   "cell_type": "code",
   "execution_count": null,
   "metadata": {},
   "outputs": [],
   "source": "# Uses: clustering.subcluster_cells() (full subclustering pipeline with HVG, PCA, UMAP, Leiden)\n\n# Subcluster specific clusters\n# cluster_ids = ['0', '1']  # Specify clusters to subcluster\n# adata_subset = clustering.subcluster_cells(\n#     adata,\n#     cluster_ids=cluster_ids,\n#     clustering_key='leiden',\n#     resolution=1.0\n# )\n\n# # Visualize subclusters (uses sc.pl.umap)\n# sc.pl.umap(adata_subset, color='leiden_sub', legend_loc='on data', frameon=False)\n\n# # Find markers for subclusters (uses sc.tl.rank_genes_groups)\n# sc.tl.rank_genes_groups(adata_subset, groupby='leiden_sub', method='wilcoxon')"
  },
  {
   "cell_type": "markdown",
   "metadata": {},
   "source": [
    "## 15. Save Annotated Data"
   ]
  },
  {
   "cell_type": "code",
   "execution_count": null,
   "metadata": {},
   "outputs": [],
   "source": "# Uses: io.save_checkpoint()\n# Replaces old wrapper: annotation.export_annotations() → use adata.obs.to_csv()\n\n# Save final annotated data\nio.save_checkpoint(adata, 'annotated')\nprint(\"✓ Annotated data saved\")\n\n# Export annotations to CSV\nif 'cell_type' in adata.obs.columns:\n    adata.obs[['cell_type']].to_csv('../outputs/cell_annotations.csv')\n    print(\"✓ Annotations exported to CSV\")"
  },
  {
   "cell_type": "markdown",
   "metadata": {},
   "source": [
    "## 16. Generate Reports"
   ]
  },
  {
   "cell_type": "code",
   "execution_count": null,
   "metadata": {},
   "outputs": [],
   "source": "# Uses: reports.create_qc_report() which uses qc.plot_qc_metrics(), preprocessing.plot_doublet_scores(), visualization.plot_qc_overview()\n\n# Generate QC report\nreports.create_qc_report(adata, output_file='../outputs/reports/qc_report.pdf')"
  },
  {
   "cell_type": "code",
   "execution_count": null,
   "metadata": {},
   "outputs": [],
   "source": "# Uses: reports.create_analysis_report() which uses:\n#   - visualization.create_summary_figure()\n#   - reduction.plot_pca_variance()\n#   - clustering.plot_cluster_sizes(), clustering.compute_cluster_statistics()\n#   - sc.pl.rank_genes_groups_heatmap(), sc.pl.rank_genes_groups_dotplot(), sc.pl.umap()\n\n# Generate analysis report\nreports.create_analysis_report(\n    adata,\n    output_file='../outputs/reports/analysis_report.pdf',\n    clustering_key='leiden',\n    annotation_key='cell_type'\n)"
  },
  {
   "cell_type": "markdown",
   "metadata": {},
   "source": [
    "## Summary\n",
    "\n",
    "Pipeline complete! Your outputs are saved in:\n",
    "- **Checkpoints**: `../outputs/checkpoints/`\n",
    "  - `raw.h5ad`\n",
    "  - `preprocessed.h5ad`\n",
    "  - `annotated.h5ad`\n",
    "- **Reports**: `../outputs/reports/`\n",
    "  - `qc_report.pdf`\n",
    "  - `analysis_report.pdf`\n",
    "- **Annotations**: `../outputs/cell_annotations.csv`"
   ]
  }
 ],
 "metadata": {
  "kernelspec": {
   "display_name": "Python 3",
   "language": "python",
   "name": "python3"
  },
  "language_info": {
   "codemirror_mode": {
    "name": "ipython",
    "version": 3
   },
   "file_extension": ".py",
   "mimetype": "text/x-python",
   "name": "python",
   "nbconvert_exporter": "python",
   "pygments_lexer": "ipython3",
   "version": "3.10.0"
  }
 },
 "nbformat": 4,
 "nbformat_minor": 4
}