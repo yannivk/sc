{
 "cells": [
  {
   "cell_type": "markdown",
   "metadata": {},
   "source": [
    "# Single-Cell RNA-seq Analysis Pipeline\n",
    "\n",
    "Interactive pipeline for scRNA-seq preprocessing, dimensionality reduction, clustering, and annotation.\n",
    "\n",
    "## Pipeline Overview\n",
    "\n",
    "1. **Data Loading** - Load h5ad, rds, or mtx format\n",
    "2. **Quality Control** - Interactive QC metric visualization and filtering\n",
    "3. **Doublet Detection** - Identify and remove doublets\n",
    "4. **Normalization** - Choose normalization method\n",
    "5. **Feature Selection** - Select highly variable genes\n",
    "6. **Dimensionality Reduction** - PCA and UMAP\n",
    "7. **Clustering** - Interactive resolution selection\n",
    "8. **Gene Visualization** - View gene expression on UMAP\n",
    "9. **Marker Gene Analysis** - Identify cluster markers\n",
    "10. **Manual Annotation** - Annotate cell types\n",
    "11. **Subclustering** (optional) - Refine specific clusters\n",
    "12. **Export & Report** - Save results and generate PDF report"
   ]
  },
  {
   "cell_type": "markdown",
   "metadata": {},
   "source": [
    "## Setup"
   ]
  },
  {
   "cell_type": "code",
   "execution_count": null,
   "metadata": {},
   "outputs": [],
   "source": [
    "# Import libraries\n",
    "import sys\n",
    "sys.path.append('..')\n",
    "\n",
    "import scanpy as sc\n",
    "import numpy as np\n",
    "import pandas as pd\n",
    "import matplotlib.pyplot as plt\n",
    "import warnings\n",
    "warnings.filterwarnings('ignore')\n",
    "\n",
    "# Import pipeline modules\n",
    "from src import io, qc, preprocessing, reduction, clustering, annotation, visualization, interactive, reports\n",
    "\n",
    "# Scanpy settings\n",
    "sc.settings.verbosity = 3\n",
    "sc.settings.set_figure_params(dpi=80, facecolor='white')\n",
    "\n",
    "print(\"✓ Setup complete\")"
   ]
  },
  {
   "cell_type": "markdown",
   "metadata": {},
   "source": [
    "## 1. Data Loading\n",
    "\n",
    "Load your scRNA-seq data. Supported formats:\n",
    "- `.h5ad` (AnnData)\n",
    "- `.rds` (Seurat object)\n",
    "- `matrix.mtx` + `barcodes.tsv` + `genes.tsv` (10X format)"
   ]
  },
  {
   "cell_type": "code",
   "execution_count": null,
   "metadata": {},
   "outputs": [],
   "source": [
    "# Option 1: Load h5ad file\n",
    "# adata = io.load_h5ad('../data/your_data.h5ad')\n",
    "\n",
    "# Option 2: Load RDS file (Seurat object)\n",
    "# adata = io.load_rds('../data/your_data.rds')\n",
    "\n",
    "# Option 3: Load 10X MTX format\n",
    "# adata = io.load_10x_mtx('../data/filtered_feature_bc_matrix/')\n",
    "\n",
    "# Option 4: Auto-detect format\n",
    "adata = io.load_data('../data/your_data.h5ad')  # Change to your file path\n",
    "\n",
    "print(f\"\\nLoaded: {adata.n_obs} cells × {adata.n_vars} genes\")"
   ]
  },
  {
   "cell_type": "code",
   "execution_count": null,
   "metadata": {},
   "outputs": [],
   "source": [
    "# Save raw data checkpoint\n",
    "io.save_checkpoint(adata, 'raw')\n",
    "print(\"✓ Raw data saved\")"
   ]
  },
  {
   "cell_type": "markdown",
   "metadata": {},
   "source": [
    "## 2. Quality Control\n",
    "\n",
    "Calculate QC metrics and visualize data quality."
   ]
  },
  {
   "cell_type": "code",
   "execution_count": null,
   "metadata": {},
   "outputs": [],
   "source": [
    "# Calculate QC metrics\n",
    "adata = qc.calculate_qc_metrics(adata, mito_prefix='MT-')\n",
    "\n",
    "# Display QC summary\n",
    "summary = qc.get_qc_summary(adata)\n",
    "print(\"\\nQC Metrics Summary:\")\n",
    "display(summary)"
   ]
  },
  {
   "cell_type": "code",
   "execution_count": null,
   "metadata": {},
   "outputs": [],
   "source": [
    "# Generate QC plots\n",
    "fig = qc.plot_qc_metrics(adata, figsize=(15, 10))\n",
    "plt.show()"
   ]
  },
  {
   "cell_type": "markdown",
   "metadata": {},
   "source": [
    "### Interactive QC Filtering\n",
    "\n",
    "Adjust thresholds interactively and see the number of cells that will be retained."
   ]
  },
  {
   "cell_type": "code",
   "execution_count": null,
   "metadata": {},
   "outputs": [],
   "source": [
    "# Interactive QC filtering widget\n",
    "qc_widget = interactive.QCFilterWidget(adata)\n",
    "qc_widget.display()"
   ]
  },
  {
   "cell_type": "code",
   "execution_count": null,
   "metadata": {},
   "outputs": [],
   "source": [
    "# Apply filters (run after clicking \"Apply Filters\" button)\n",
    "adata = qc_widget.get_filtered_data()\n",
    "\n",
    "if adata is not None:\n",
    "    print(f\"\\n✓ Filtered data: {adata.n_obs} cells × {adata.n_vars} genes\")\n",
    "else:\n",
    "    print(\"Please click 'Apply Filters' button first\")"
   ]
  },
  {
   "cell_type": "code",
   "execution_count": null,
   "metadata": {},
   "outputs": [],
   "source": [
    "# Filter genes (remove genes detected in < 20 cells)\n",
    "qc.filter_genes_by_counts(adata, min_cells=20)"
   ]
  },
  {
   "cell_type": "markdown",
   "metadata": {},
   "source": [
    "## 3. Doublet Detection\n",
    "\n",
    "Identify and remove potential doublets using Scrublet."
   ]
  },
  {
   "cell_type": "code",
   "execution_count": null,
   "metadata": {},
   "outputs": [],
   "source": [
    "# Detect doublets\n",
    "adata = preprocessing.detect_doublets(adata, expected_doublet_rate=0.06)"
   ]
  },
  {
   "cell_type": "markdown",
   "metadata": {},
   "source": [
    "### Interactive Doublet Filtering"
   ]
  },
  {
   "cell_type": "code",
   "execution_count": null,
   "metadata": {},
   "outputs": [],
   "source": [
    "# Interactive doublet filtering widget\n",
    "doublet_widget = interactive.DoubletFilterWidget(adata)\n",
    "doublet_widget.display()"
   ]
  },
  {
   "cell_type": "code",
   "execution_count": null,
   "metadata": {},
   "outputs": [],
   "source": [
    "# Apply doublet filtering (run after clicking \"Remove Doublets\" button)\n",
    "adata = doublet_widget.get_filtered_data()\n",
    "\n",
    "if adata is not None:\n",
    "    print(f\"\\n✓ After doublet removal: {adata.n_obs} cells × {adata.n_vars} genes\")\n",
    "else:\n",
    "    print(\"Please click 'Remove Doublets' button first\")"
   ]
  },
  {
   "cell_type": "markdown",
   "metadata": {},
   "source": [
    "## 4. Normalization\n",
    "\n",
    "Choose normalization method based on your analysis goals:\n",
    "- **log1p**: Standard log transformation (recommended for general use)\n",
    "- **scran**: Better for batch correction\n",
    "- **pearson**: Better for rare cell type identification"
   ]
  },
  {
   "cell_type": "code",
   "execution_count": null,
   "metadata": {},
   "outputs": [],
   "source": [
    "# Normalize data\n",
    "preprocessing.normalize_data(adata, method='log1p', target_sum=1e4)\n",
    "print(\"✓ Normalization complete\")"
   ]
  },
  {
   "cell_type": "markdown",
   "metadata": {},
   "source": [
    "## 5. Feature Selection\n",
    "\n",
    "Select highly variable genes for downstream analysis."
   ]
  },
  {
   "cell_type": "code",
   "execution_count": null,
   "metadata": {},
   "outputs": [],
   "source": [
    "# Select highly variable genes\n",
    "preprocessing.select_highly_variable_genes(adata, method='seurat', n_top_genes=2000)\n",
    "\n",
    "# Plot HVGs\n",
    "fig = preprocessing.plot_highly_variable_genes(adata)\n",
    "plt.show()"
   ]
  },
  {
   "cell_type": "markdown",
   "metadata": {},
   "source": [
    "## 6. Scaling and Regression (Optional)\n",
    "\n",
    "Scale data and optionally regress out unwanted sources of variation."
   ]
  },
  {
   "cell_type": "code",
   "execution_count": null,
   "metadata": {},
   "outputs": [],
   "source": [
    "# Optional: Regress out total counts and mitochondrial percentage\n",
    "# preprocessing.regress_out(adata, keys=['total_counts', 'pct_counts_mt'])\n",
    "\n",
    "# Scale data\n",
    "preprocessing.scale_data(adata, max_value=10)\n",
    "print(\"✓ Data scaled\")"
   ]
  },
  {
   "cell_type": "markdown",
   "metadata": {},
   "source": [
    "## 7. Dimensionality Reduction\n",
    "\n",
    "Compute PCA, then UMAP for visualization."
   ]
  },
  {
   "cell_type": "code",
   "execution_count": null,
   "metadata": {},
   "outputs": [],
   "source": [
    "# Compute PCA\n",
    "reduction.compute_pca(adata, n_comps=50)\n",
    "\n",
    "# Plot variance explained\n",
    "fig = reduction.plot_pca_variance(adata, n_pcs=50)\n",
    "plt.show()"
   ]
  },
  {
   "cell_type": "markdown",
   "metadata": {},
   "source": [
    "### Interactive PCA Component Selection"
   ]
  },
  {
   "cell_type": "code",
   "execution_count": null,
   "metadata": {},
   "outputs": [],
   "source": [
    "# Interactive PCA selection widget\n",
    "pca_widget = interactive.PCAWidget(adata)\n",
    "pca_widget.display()"
   ]
  },
  {
   "cell_type": "code",
   "execution_count": null,
   "metadata": {},
   "outputs": [],
   "source": [
    "# Get selected number of PCs\n",
    "n_pcs = pca_widget.get_n_pcs()\n",
    "print(f\"Using {n_pcs} principal components\")"
   ]
  },
  {
   "cell_type": "code",
   "execution_count": null,
   "metadata": {},
   "outputs": [],
   "source": [
    "# Compute neighbors and UMAP\n",
    "reduction.compute_neighbors(adata, n_neighbors=15, n_pcs=n_pcs)\n",
    "reduction.compute_umap(adata, min_dist=0.5)\n",
    "print(\"✓ UMAP computed\")"
   ]
  },
  {
   "cell_type": "markdown",
   "metadata": {},
   "source": [
    "## 8. Clustering\n",
    "\n",
    "Test multiple resolutions and select the optimal clustering."
   ]
  },
  {
   "cell_type": "code",
   "execution_count": null,
   "metadata": {},
   "outputs": [],
   "source": [
    "# Compute clustering at multiple resolutions\n",
    "clustering.compute_multiple_resolutions(adata, resolutions=[0.25, 0.5, 1.0, 1.5, 2.0])"
   ]
  },
  {
   "cell_type": "markdown",
   "metadata": {},
   "source": [
    "### Interactive Resolution Selection"
   ]
  },
  {
   "cell_type": "code",
   "execution_count": null,
   "metadata": {},
   "outputs": [],
   "source": [
    "# Interactive clustering widget\n",
    "clustering_widget = interactive.ClusteringResolutionWidget(adata, resolutions=[0.25, 0.5, 1.0, 1.5, 2.0])\n",
    "clustering_widget.display()"
   ]
  },
  {
   "cell_type": "code",
   "execution_count": null,
   "metadata": {},
   "outputs": [],
   "source": [
    "# Get selected resolution\n",
    "selected_res = clustering_widget.get_resolution()\n",
    "print(f\"\\nUsing resolution: {selected_res}\")\n",
    "\n",
    "# Plot selected clustering\n",
    "fig = reduction.plot_umap(adata, color=['leiden'], figsize=(10, 8))\n",
    "plt.show()"
   ]
  },
  {
   "cell_type": "code",
   "execution_count": null,
   "metadata": {},
   "outputs": [],
   "source": [
    "# Display cluster sizes\n",
    "fig = clustering.plot_cluster_sizes(adata, clustering_key='leiden')\n",
    "plt.show()\n",
    "\n",
    "# Cluster statistics\n",
    "stats = clustering.compute_cluster_statistics(adata, clustering_key='leiden')\n",
    "display(stats)"
   ]
  },
  {
   "cell_type": "markdown",
   "metadata": {},
   "source": [
    "## 9. Save Preprocessed Data\n",
    "\n",
    "Save checkpoint before annotation."
   ]
  },
  {
   "cell_type": "code",
   "execution_count": null,
   "metadata": {},
   "outputs": [],
   "source": [
    "# Save preprocessed data\n",
    "io.save_checkpoint(adata, 'preprocessed')\n",
    "print(\"✓ Preprocessed data saved\")"
   ]
  },
  {
   "cell_type": "markdown",
   "metadata": {},
   "source": [
    "## 10. Gene Expression Visualization\n",
    "\n",
    "Visualize specific genes to inform annotation decisions."
   ]
  },
  {
   "cell_type": "code",
   "execution_count": null,
   "metadata": {},
   "outputs": [],
   "source": [
    "# Interactive gene visualization widget\n",
    "gene_widget = interactive.GeneVisualizationWidget(adata)\n",
    "gene_widget.display()\n",
    "\n",
    "# Enter gene names (one per line) and click \"Plot Genes\""
   ]
  },
  {
   "cell_type": "markdown",
   "metadata": {},
   "source": [
    "## 11. Marker Gene Analysis\n",
    "\n",
    "Identify marker genes for each cluster."
   ]
  },
  {
   "cell_type": "code",
   "execution_count": null,
   "metadata": {},
   "outputs": [],
   "source": [
    "# Find marker genes\n",
    "annotation.find_marker_genes(adata, clustering_key='leiden', method='wilcoxon', n_genes=100)"
   ]
  },
  {
   "cell_type": "code",
   "execution_count": null,
   "metadata": {},
   "outputs": [],
   "source": [
    "# Plot top marker genes\n",
    "fig = annotation.plot_marker_genes_heatmap(adata, n_genes=10, clustering_key='leiden')\n",
    "plt.show()"
   ]
  },
  {
   "cell_type": "code",
   "execution_count": null,
   "metadata": {},
   "outputs": [],
   "source": [
    "# Dotplot of top markers\n",
    "fig = annotation.plot_marker_genes_dotplot(adata, n_genes=5, clustering_key='leiden')\n",
    "plt.show()"
   ]
  },
  {
   "cell_type": "code",
   "execution_count": null,
   "metadata": {},
   "outputs": [],
   "source": [
    "# View top markers for specific cluster\n",
    "cluster_id = 0  # Change to cluster of interest\n",
    "markers = annotation.get_top_markers(adata, cluster=cluster_id, n_genes=20)\n",
    "display(markers)"
   ]
  },
  {
   "cell_type": "markdown",
   "metadata": {},
   "source": [
    "## 12. Manual Cell Type Annotation\n",
    "\n",
    "Annotate clusters based on marker genes."
   ]
  },
  {
   "cell_type": "code",
   "execution_count": null,
   "metadata": {},
   "outputs": [],
   "source": [
    "# Interactive annotation widget\n",
    "annotation_widget = interactive.AnnotationWidget(adata, clustering_key='leiden')\n",
    "annotation_widget.display()\n",
    "\n",
    "# For each cluster:\n",
    "# 1. Select cluster from dropdown\n",
    "# 2. Click \"Show Markers\" to see top marker genes\n",
    "# 3. Enter cell type in text box\n",
    "# 4. Click \"Annotate Cluster\"\n",
    "# 5. Repeat for all clusters\n",
    "# 6. Click \"Finish Annotation\" when done"
   ]
  },
  {
   "cell_type": "markdown",
   "metadata": {},
   "source": [
    "### Alternative: Manual Annotation (Code)\n",
    "\n",
    "If you prefer to annotate programmatically:"
   ]
  },
  {
   "cell_type": "code",
   "execution_count": null,
   "metadata": {},
   "outputs": [],
   "source": [
    "# Manual annotation dictionary\n",
    "# annotations = {\n",
    "#     '0': 'T cells',\n",
    "#     '1': 'B cells',\n",
    "#     '2': 'Monocytes',\n",
    "#     '3': 'NK cells',\n",
    "#     # ... add all clusters\n",
    "# }\n",
    "\n",
    "# annotation.annotate_clusters(adata, annotations=annotations, clustering_key='leiden')"
   ]
  },
  {
   "cell_type": "code",
   "execution_count": null,
   "metadata": {},
   "outputs": [],
   "source": [
    "# Plot annotated UMAP\n",
    "if 'cell_type' in adata.obs.columns:\n",
    "    fig = annotation.plot_annotated_umap(adata, annotation_key='cell_type', figsize=(12, 10))\n",
    "    plt.show()"
   ]
  },
  {
   "cell_type": "markdown",
   "metadata": {},
   "source": [
    "## 13. Cluster Manipulation (Optional)\n",
    "\n",
    "Split or merge clusters if needed."
   ]
  },
  {
   "cell_type": "code",
   "execution_count": null,
   "metadata": {},
   "outputs": [],
   "source": [
    "# Merge clusters (example: merge clusters 3 and 5)\n",
    "# clustering.merge_clusters(adata, clusters_to_merge=['3', '5'], clustering_key='leiden', new_cluster_name='3')\n",
    "\n",
    "# Split cluster (example: split cluster 2)\n",
    "# clustering.split_cluster(adata, cluster_id='2', clustering_key='leiden', resolution=1.5)"
   ]
  },
  {
   "cell_type": "markdown",
   "metadata": {},
   "source": [
    "## 14. Subclustering (Optional)\n",
    "\n",
    "Perform detailed analysis on specific cell populations."
   ]
  },
  {
   "cell_type": "code",
   "execution_count": null,
   "metadata": {},
   "outputs": [],
   "source": [
    "# Subcluster specific clusters\n",
    "# cluster_ids = ['0', '1']  # Specify clusters to subcluster\n",
    "# adata_subset = clustering.subcluster_cells(\n",
    "#     adata,\n",
    "#     cluster_ids=cluster_ids,\n",
    "#     clustering_key='leiden',\n",
    "#     resolution=1.0\n",
    "# )\n",
    "\n",
    "# # Visualize subclusters\n",
    "# fig = reduction.plot_umap(adata_subset, color=['leiden_sub'], figsize=(10, 8))\n",
    "# plt.show()\n",
    "\n",
    "# # Find markers for subclusters\n",
    "# annotation.find_marker_genes(adata_subset, clustering_key='leiden_sub')"
   ]
  },
  {
   "cell_type": "markdown",
   "metadata": {},
   "source": [
    "## 15. Save Annotated Data"
   ]
  },
  {
   "cell_type": "code",
   "execution_count": null,
   "metadata": {},
   "outputs": [],
   "source": [
    "# Save final annotated data\n",
    "io.save_checkpoint(adata, 'annotated')\n",
    "print(\"✓ Annotated data saved\")\n",
    "\n",
    "# Export annotations to CSV\n",
    "if 'cell_type' in adata.obs.columns:\n",
    "    annotation.export_annotations(adata, annotation_key='cell_type', output_file='../outputs/cell_annotations.csv')"
   ]
  },
  {
   "cell_type": "markdown",
   "metadata": {},
   "source": [
    "## 16. Generate Reports"
   ]
  },
  {
   "cell_type": "code",
   "execution_count": null,
   "metadata": {},
   "outputs": [],
   "source": [
    "# Generate QC report\n",
    "reports.create_qc_report(adata, output_file='../outputs/reports/qc_report.pdf')"
   ]
  },
  {
   "cell_type": "code",
   "execution_count": null,
   "metadata": {},
   "outputs": [],
   "source": [
    "# Generate analysis report\n",
    "reports.create_analysis_report(\n",
    "    adata,\n",
    "    output_file='../outputs/reports/analysis_report.pdf',\n",
    "    clustering_key='leiden',\n",
    "    annotation_key='cell_type'\n",
    ")"
   ]
  },
  {
   "cell_type": "markdown",
   "metadata": {},
   "source": [
    "## Summary\n",
    "\n",
    "Pipeline complete! Your outputs are saved in:\n",
    "- **Checkpoints**: `../outputs/checkpoints/`\n",
    "  - `raw.h5ad`\n",
    "  - `preprocessed.h5ad`\n",
    "  - `annotated.h5ad`\n",
    "- **Reports**: `../outputs/reports/`\n",
    "  - `qc_report.pdf`\n",
    "  - `analysis_report.pdf`\n",
    "- **Annotations**: `../outputs/cell_annotations.csv`"
   ]
  }
 ],
 "metadata": {
  "kernelspec": {
   "display_name": "Python 3",
   "language": "python",
   "name": "python3"
  },
  "language_info": {
   "codemirror_mode": {
    "name": "ipython",
    "version": 3
   },
   "file_extension": ".py",
   "mimetype": "text/x-python",
   "name": "python",
   "nbconvert_exporter": "python",
   "pygments_lexer": "ipython3",
   "version": "3.10.0"
  }
 },
 "nbformat": 4,
 "nbformat_minor": 4
}